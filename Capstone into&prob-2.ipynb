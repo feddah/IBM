{
 "cells": [
  {
   "cell_type": "markdown",
   "metadata": {},
   "source": [
    "# IBM Coursera Data Science Specilization \n",
    "This is required assignment for 9th course of Data Science Specilization\n",
    "\n",
    "Feddah Alotaibi \n",
    "fdalthaqeel@gmail.com "
   ]
  },
  {
   "cell_type": "markdown",
   "metadata": {},
   "source": [
    "# Introduction:\n",
    "\n",
    "Trying to find the best restaurant to have dinner at is difficult sometimes. Especially for people who are new to the city. The aim of this project is to leverage Foursquare location data in order to help tourists find a good place to eat. This report demonstrates the process of pulling data out of Foursquare and use it group restaurants in a Jeddah, one of the main cities in Saudi Arabia. \n",
    "\n",
    "\n",
    " \n"
   ]
  },
  {
   "cell_type": "markdown",
   "metadata": {},
   "source": [
    "# Business Problem:\n",
    "\n",
    "Is it possible to group restaurants in Jeddah based on their similarities?\n",
    "\n",
    "Can we tell which is best/average/worst? Can we help new visitors and people of Jeddah choose where to eat on a Friday night?\n",
    "\n",
    "This project aims to answer these questions by utilizing data from Foursquare API. \n",
    "The main goal of this project is to explore restaurants and cafes in Jeddah city and cluster them based on similarities and define each of their characteristics."
   ]
  },
  {
   "cell_type": "markdown",
   "metadata": {},
   "source": [
    "\n",
    "# Data Required: \n",
    "\n",
    "In order to accomplish this project data has to be extracted from Foursquare API.\n",
    "Data about Jeddah city include:\n",
    "\n",
    "Jeddah Venues (venue name, venue ID, venue location, venue category and number of likes) \n"
   ]
  },
  {
   "cell_type": "code",
   "execution_count": null,
   "metadata": {},
   "outputs": [],
   "source": []
  }
 ],
 "metadata": {
  "kernelspec": {
   "display_name": "Python 3",
   "language": "python",
   "name": "python3"
  },
  "language_info": {
   "codemirror_mode": {
    "name": "ipython",
    "version": 3
   },
   "file_extension": ".py",
   "mimetype": "text/x-python",
   "name": "python",
   "nbconvert_exporter": "python",
   "pygments_lexer": "ipython3",
   "version": "3.7.1"
  }
 },
 "nbformat": 4,
 "nbformat_minor": 2
}
